{
 "cells": [
  {
   "cell_type": "markdown",
   "metadata": {},
   "source": [
    "# What we mapped"
   ]
  },
  {
   "cell_type": "markdown",
   "metadata": {},
   "source": [
    "With this notebook, and with [QGIS TimeManager plug-in](https://plugins.qgis.org/plugins/timemanager/), you will be able to create animated gif and movie to illustrate the work accomplished during a Mapathon event."
   ]
  },
  {
   "cell_type": "markdown",
   "metadata": {},
   "source": [
    "Example \n",
    "---------------\n",
    "Idjwi, Democratic Republic of the Congo.\n",
    "\n",
    "![alt tag](https://github.com/tgrippa/Mapathon_HOT_OSM_WhatWeMapped/blob/master/Example/Mapathon2016accomplishment.gif?raw=true)"
   ]
  },
  {
   "cell_type": "markdown",
   "metadata": {},
   "source": [
    "# Configuration"
   ]
  },
  {
   "cell_type": "markdown",
   "metadata": {
    "slideshow": {
     "slide_type": "-"
    }
   },
   "source": [
    "## Import libraries"
   ]
  },
  {
   "cell_type": "code",
   "execution_count": 170,
   "metadata": {
    "collapsed": false,
    "slideshow": {
     "slide_type": "-"
    }
   },
   "outputs": [],
   "source": [
    "## Import libraries needed for setting parameters of operating system \n",
    "import os\n",
    "import sys\n",
    "\n",
    "## Import library for temporary files creation \n",
    "import tempfile \n",
    "\n",
    "## Import Numpy library\n",
    "import numpy as np\n",
    "\n",
    "## Import Psycopg2 library (interection with postgres database)\n",
    "import psycopg2 as pg\n",
    "\n",
    "## Import Pandas library (View and manipulaiton of tables)\n",
    "import pandas as pd"
   ]
  },
  {
   "cell_type": "markdown",
   "metadata": {},
   "source": [
    "## User inputs"
   ]
  },
  {
   "cell_type": "code",
   "execution_count": 171,
   "metadata": {
    "collapsed": true
   },
   "outputs": [],
   "source": [
    "## Define a empty dictionnary for saving user inputs\n",
    "user={}"
   ]
  },
  {
   "cell_type": "code",
   "execution_count": 218,
   "metadata": {
    "collapsed": false
   },
   "outputs": [],
   "source": [
    "## Enter the name of the new postgresqgl database\n",
    "user[\"dbname\"] = \"Mapathon\"\n",
    "## Enter the postgresqgl username\n",
    "user[\"user\"] = \"tais\"\n",
    "## Enter postgresqgl Password\n",
    "user[\"password\"] = \"tais\"\n",
    "## Enter postgresqgl host\n",
    "user[\"host\"] = \"localhost\"\n",
    "## Enter DB port\n",
    "user[\"port\"] = \"5432\"\n",
    "## Enter postgresqgl schema\n",
    "user[\"schema\"] = \"belgianmapath2016\""
   ]
  },
  {
   "cell_type": "markdown",
   "metadata": {},
   "source": [
    "Here after:\n",
    "- Enter the path to the main directory of Postgresql."
   ]
  },
  {
   "cell_type": "code",
   "execution_count": 173,
   "metadata": {
    "collapsed": true
   },
   "outputs": [],
   "source": [
    "## Enter the path to the osm2pgsql folder\n",
    "user[\"pgsqlfolder\"]=\"C:\\\\Program Files\\\\PostgreSQL\\\\9.6\\\\bin\"\n",
    "## Add environment variables for Postgresql\n",
    "os.environ['PATH'] = user[\"pgsqlfolder\"] + os.pathsep + os.environ['PATH']"
   ]
  },
  {
   "cell_type": "markdown",
   "metadata": {},
   "source": [
    "Here after:\n",
    "- Enter the path to the directory where osm2pgsql in located. \n",
    "The command-line based program \"osm2pgsql\" have to be installed on your computer. See [the official wiki page](http://wiki.openstreetmap.org/wiki/Osm2pgsql) for more information. For Windows user, you have to [dowload the osm2pgsql executable](https://ci.appveyor.com/project/openstreetmap/osm2pgsql/history). Go to the page and find the latest 'artifact'.  \n",
    "\n",
    "\n"
   ]
  },
  {
   "cell_type": "code",
   "execution_count": 174,
   "metadata": {
    "collapsed": true
   },
   "outputs": [],
   "source": [
    "## Enter the path to the osm2pgsql folder\n",
    "user[\"osm2pgsqlfolder\"]=\"C:\\Users\\Admin_ULB\\osm2pgsql-bin\"\n",
    "## Add environment variables for osm2pgsql\n",
    "os.environ['PATH'] = user[\"osm2pgsqlfolder\"] + os.pathsep + os.environ['PATH']"
   ]
  },
  {
   "cell_type": "code",
   "execution_count": 175,
   "metadata": {
    "collapsed": false
   },
   "outputs": [],
   "source": [
    "# Define the path to the osm2pgsql default.style file\n",
    "user[\"stylefile\"]=os.path.join(user[\"osm2pgsqlfolder\"],\"default_TG.style\")"
   ]
  },
  {
   "cell_type": "markdown",
   "metadata": {},
   "source": [
    "Here after:\n",
    "- Enter the path to the folder where the .osm file covering your area of interest will be downloaded. \n",
    "OSM data downloading is automated in this script. In case you would manage yourself the retrieving of OSM data, please read the [official wiki page](http://wiki.openstreetmap.org/wiki/Downloading_data) for that purpose. In that case some parts of this notebook should be adapted."
   ]
  },
  {
   "cell_type": "code",
   "execution_count": 176,
   "metadata": {
    "collapsed": false
   },
   "outputs": [],
   "source": [
    "## Enter the path to the folder where the .osm file will be downloaded\n",
    "user[\"osmfolder\"]=\"F:\\Tais\\Dropbox\\BROL\\Mapathon_Tais\\Qgis_timemanager\\Belgianmapathon2016\"\n",
    "## Enter the prefix you want to be used in the PostGIS DB\n",
    "user[\"prefixosm\"]=\"osm\""
   ]
  },
  {
   "cell_type": "markdown",
   "metadata": {},
   "source": [
    "Here after:\n",
    "- Enter the path to a .shp file (a single polygon feature) corresponding to the area of interest (AOI) which has been mapped. Please, be sure the projection is EPSG 3857."
   ]
  },
  {
   "cell_type": "code",
   "execution_count": 177,
   "metadata": {
    "collapsed": false
   },
   "outputs": [],
   "source": [
    "## Enter the path to the .shp file corresponding to the area of interested which has been mapped\n",
    "user[\"aoi_shp\"]=\"F:\\Tais\\Dropbox\\BROL\\Mapathon_Tais\\Qgis_timemanager\\Belgianmapathon2016\\AOI_idjwi_2016.shp\""
   ]
  },
  {
   "cell_type": "markdown",
   "metadata": {},
   "source": [
    "Here after:\n",
    "- Enter the path to .shp files where the resulting osm layer will be saved."
   ]
  },
  {
   "cell_type": "code",
   "execution_count": 178,
   "metadata": {
    "collapsed": false
   },
   "outputs": [],
   "source": [
    "## Enter the path to the .shp file where the resulting osm layer will be saved - Path for LINES\n",
    "user[\"output_lineshp\"]=\"F:\\Tais\\Dropbox\\BROL\\Mapathon_Tais\\Qgis_timemanager\\Belgianmapathon2016\\output_line.shp\""
   ]
  },
  {
   "cell_type": "code",
   "execution_count": 179,
   "metadata": {
    "collapsed": false
   },
   "outputs": [],
   "source": [
    "## Enter the path to the .shp file where the resulting osm layer will be saved - Path for POLYGONS\n",
    "user[\"output_polygonshp\"]=\"F:\\Tais\\Dropbox\\BROL\\Mapathon_Tais\\Qgis_timemanager\\Belgianmapathon2016\\output_polygon.shp\""
   ]
  },
  {
   "cell_type": "markdown",
   "metadata": {},
   "source": [
    "Here after:\n",
    "- Postgresql tables' name are saved as variables. You could change it only if you want."
   ]
  },
  {
   "cell_type": "code",
   "execution_count": 180,
   "metadata": {
    "collapsed": true
   },
   "outputs": [],
   "source": [
    "## Save postgresqgl table's mane\n",
    "user[\"aoi\"] = \"aoi\"\n",
    "user[\"bbox\"] = \"bbox\"\n",
    "user[\"bbox_coord\"] = \"bbox_coord\""
   ]
  },
  {
   "cell_type": "markdown",
   "metadata": {},
   "source": [
    "**-_-_-_-_-_-_-_-_-_-_-_-_-_-_-_-_-_-_-_-_-_-_-_-_-_-_-_-_-_-_-_-_-_-_-_-_-_-_-_-_-_-_-_-_-_-_-_-_-_-_-_-_-_-_-_-_-_-_-_-_-**"
   ]
  },
  {
   "cell_type": "markdown",
   "metadata": {},
   "source": [
    "# Import data in Postgis"
   ]
  },
  {
   "cell_type": "markdown",
   "metadata": {},
   "source": [
    "## Create postgis extension"
   ]
  },
  {
   "cell_type": "markdown",
   "metadata": {},
   "source": [
    "Postgis extension will be created if it doesn't exists!"
   ]
  },
  {
   "cell_type": "code",
   "execution_count": 183,
   "metadata": {
    "collapsed": false
   },
   "outputs": [],
   "source": [
    "# Connect to the database\n",
    "db=None\n",
    "db=pg.connect(dbname=user[\"dbname\"], user=user[\"user\"], password=user[\"password\"], host=user[\"host\"])\n",
    "cur=db.cursor()\n",
    "# Execute the query\n",
    "cur.execute('CREATE EXTENSION IF NOT EXISTS postgis')\n",
    "# Make the changes to the database persistent\n",
    "db.commit()\n",
    "# Close connection with database\n",
    "cur.close()\n",
    "db.close()"
   ]
  },
  {
   "cell_type": "markdown",
   "metadata": {},
   "source": [
    "## Import AOI shapefile"
   ]
  },
  {
   "cell_type": "markdown",
   "metadata": {},
   "source": [
    "The following part use the \"shp2pgsql\" program which should normally already be installed since postgis extension have been created in postgresql. See [this quick guide](http://www.bostongis.com/pgsql2shp_shp2pgsql_quickguide.bqg) for more information. \n",
    "\n",
    "Fist, a bash file is created according to user parameters. Then, the bash.dat file is pass in an embedded command prompt."
   ]
  },
  {
   "cell_type": "code",
   "execution_count": 184,
   "metadata": {
    "collapsed": false
   },
   "outputs": [
    {
     "name": "stdout",
     "output_type": "stream",
     "text": [
      "set PGPASSWORD=tais\n",
      "shp2pgsql -s 3857 -d -I F:\\Tais\\Dropbox\\BROL\\Mapathon_Tais\\Qgis_timemanager\\Belgianmapathon2016\\AOI_idjwi_2016.shp belgianmapath2016.aoi | psql -d Mapathon -h localhost -U tais\n"
     ]
    }
   ],
   "source": [
    "## Build the shp2pgsql command-line\n",
    "cmdline=\"set PGPASSWORD=\"+user[\"password\"]+\"\\n\"\n",
    "cmdline+=\"shp2pgsql -s 3857 -d -I\"+\" \"\n",
    "cmdline+=user[\"aoi_shp\"]+\" \"+user[\"schema\"]+\".\"+user[\"aoi\"]+\" \"\n",
    "cmdline+=\"|\"+\" \"\n",
    "cmdline+=\"psql -d \"+user[\"dbname\"]+\" -h \"+user[\"host\"]+\" -U \"+user[\"user\"]\n",
    "\n",
    "## Create temp bash file for shp2pgsql\n",
    "outputcsv=tempfile.gettempdir()+\"\\\\tmp_bash.bat\" # Define the csv output file name\n",
    "f = open(outputcsv, 'w')\n",
    "f.write(cmdline)\n",
    "f.close()\n",
    "print cmdline"
   ]
  },
  {
   "cell_type": "code",
   "execution_count": 185,
   "metadata": {
    "collapsed": false
   },
   "outputs": [
    {
     "name": "stdout",
     "output_type": "stream",
     "text": [
      "Microsoft Windows [version 6.1.7601]\r\n",
      "Copyright (c) 2009 Microsoft Corporation. Tous droits r�serv�s.\r\n",
      "\r\n",
      "F:\\Tais\\Dropbox\\BROL\\Mapathon_Tais\\Qgis_timemanager>%Temp%\\tmp_bash.bat\n",
      "\r\n",
      "F:\\Tais\\Dropbox\\BROL\\Mapathon_Tais\\Qgis_timemanager>set PGPASSWORD=tais \r\n",
      "\r\n",
      "F:\\Tais\\Dropbox\\BROL\\Mapathon_Tais\\Qgis_timemanager>shp2pgsql -s 3857 -d -I F:\\Tais\\Dropbox\\BROL\\Mapathon_Tais\\Qgis_timemanager\\Belgianmapathon2016\\AOI_idjwi_2016.shp belgianmapath2016.aoi   | psql -d Mapathon -h localhost -U tais \r\n",
      "SET\r\n",
      "SET\r\n",
      "               dropgeometrycolumn                \r\n",
      "-------------------------------------------------\r\n",
      " belgianmapath2016.aoi.geom effectively removed.\r\n",
      "(1 ligne)\r\n",
      "\r\n",
      "DROP TABLE\r\n",
      "BEGIN\r\n",
      "CREATE TABLE\r\n",
      "ALTER TABLE\r\n",
      "                       addgeometrycolumn                        \r\n",
      "----------------------------------------------------------------\r\n",
      " belgianmapath2016.aoi.geom SRID:3857 TYPE:MULTIPOLYGON DIMS:2 \r\n",
      "(1 ligne)\r\n",
      "\r\n",
      "INSERT 0 1\r\n",
      "CREATE INDEX\r\n",
      "COMMIT\r\n",
      "ANALYZE\r\n",
      "\r\n",
      "F:\\Tais\\Dropbox\\BROL\\Mapathon_Tais\\Qgis_timemanager>"
     ]
    },
    {
     "name": "stderr",
     "output_type": "stream",
     "text": [
      "Shapefile type: Polygon\r\n",
      "Postgis type: MULTIPOLYGON[2]\r\n"
     ]
    }
   ],
   "source": [
    "%%cmd\n",
    "%Temp%\\tmp_bash.bat"
   ]
  },
  {
   "cell_type": "markdown",
   "metadata": {},
   "source": [
    "#### Update the PostGis tables nearly creadted to ensure all geometries are valid"
   ]
  },
  {
   "cell_type": "code",
   "execution_count": 186,
   "metadata": {
    "collapsed": false,
    "scrolled": true
   },
   "outputs": [],
   "source": [
    "# Connect to an existing database\n",
    "db=pg.connect(dbname=user[\"dbname\"], user=user[\"user\"], password=user[\"password\"], host=user[\"host\"])\n",
    "# Open a cursor to perform database operations\n",
    "cur=db.cursor()\n",
    "\n",
    "# Query\n",
    "query=\"UPDATE \"+user[\"schema\"]+\".\"+user[\"aoi\"]+\" \\\n",
    "SET geom = ST_Multi(ST_CollectionExtract(ST_MakeValid(geom), 3)) \\\n",
    "WHERE ST_IsValid(geom) is not True\"\n",
    "# Execute the CREATE TABLE query \n",
    "cur.execute(query)\n",
    "# Make the changes to the database persistent\n",
    "db.commit()\n",
    "    \n",
    "# Close cursor and communication with the database\n",
    "cur.close()\n",
    "db.close()"
   ]
  },
  {
   "cell_type": "markdown",
   "metadata": {},
   "source": [
    "**-_-_-_-_-_-_-_-_-_-_-_-_-_-_-_-_-_-_-_-_-_-_-_-_-_-_-_-_-_-_-_-_-_-_-_-_-_-_-_-_-_-_-_-_-_-_-_-_-_-_-_-_-_-_-_-_-_-_-_-_-**"
   ]
  },
  {
   "cell_type": "markdown",
   "metadata": {},
   "source": [
    "## Create the bounding box (bbox) of the AOI"
   ]
  },
  {
   "cell_type": "code",
   "execution_count": 187,
   "metadata": {
    "collapsed": false
   },
   "outputs": [],
   "source": [
    "# Connect to the database\n",
    "db=pg.connect(dbname=user[\"dbname\"], user=user[\"user\"], password=user[\"password\"], host=user[\"host\"])\n",
    "# Open a cursor to perform database operations\n",
    "cur=db.cursor()"
   ]
  },
  {
   "cell_type": "code",
   "execution_count": 188,
   "metadata": {
    "collapsed": false
   },
   "outputs": [],
   "source": [
    "# Drop table if exists:\n",
    "cur.execute(\"DROP TABLE IF EXISTS \"+user[\"schema\"]+\".\"+user[\"bbox\"])\n",
    "# Make the changes to the database persistent\n",
    "db.commit()"
   ]
  },
  {
   "cell_type": "code",
   "execution_count": 189,
   "metadata": {
    "collapsed": false,
    "scrolled": true
   },
   "outputs": [],
   "source": [
    "# Connect to an existing database\n",
    "db=pg.connect(dbname=user[\"dbname\"], user=user[\"user\"], password=user[\"password\"], host=user[\"host\"])\n",
    "# Open a cursor to perform database operations\n",
    "cur=db.cursor()\n",
    "\n",
    "# Subquery1 \n",
    "subquery1=\"SELECT ST_Envelope(geom) as the_geom FROM \"+user[\"schema\"]+\".\"+user[\"aoi\"]\n",
    "\n",
    "# Save the previous subquery results in a new table\n",
    "query=\"CREATE TABLE \"+user[\"schema\"]+\".\"+user[\"bbox\"]+\" AS (\"\n",
    "query+=subquery1+\")\"\n",
    "\n",
    "# Execute the query \n",
    "cur.execute(query)\n",
    "# Make the changes to the database persistent\n",
    "db.commit()\n",
    "# Close cursor and communication with the database\n",
    "cur.close()\n",
    "db.close()"
   ]
  },
  {
   "cell_type": "markdown",
   "metadata": {},
   "source": [
    "## Get upper, lower, right and left coordinates of the bbox (in WGS84)."
   ]
  },
  {
   "cell_type": "code",
   "execution_count": 190,
   "metadata": {
    "collapsed": false
   },
   "outputs": [],
   "source": [
    "# Connect to an existing database\n",
    "db=pg.connect(dbname=user[\"dbname\"], user=user[\"user\"], password=user[\"password\"], host=user[\"host\"])\n",
    "# Open a cursor to perform database operations\n",
    "cur=db.cursor()"
   ]
  },
  {
   "cell_type": "code",
   "execution_count": 191,
   "metadata": {
    "collapsed": false
   },
   "outputs": [],
   "source": [
    "# Drop table if exists:\n",
    "cur.execute(\"DROP TABLE IF EXISTS \"+user[\"schema\"]+\".\"+user[\"bbox_coord\"])\n",
    "# Make the changes to the database persistent\n",
    "db.commit()"
   ]
  },
  {
   "cell_type": "code",
   "execution_count": 192,
   "metadata": {
    "collapsed": false,
    "scrolled": true
   },
   "outputs": [],
   "source": [
    "### Save the previous subquery1 results in a new table\n",
    "# Connect to an existing database\n",
    "db=pg.connect(dbname=user[\"dbname\"], user=user[\"user\"], password=user[\"password\"], host=user[\"host\"])\n",
    "# Open a cursor to perform database operations\n",
    "cur=db.cursor()\n",
    "\n",
    "subquery1=\"WITH \\\n",
    "wgs84geom AS(\\\n",
    "SELECT  ST_Transform(the_geom, 4326) AS the_geom \\\n",
    "FROM \"+user[\"schema\"]+\".\"+user[\"bbox\"]+\") \\\n",
    "\\\n",
    "SELECT ST_Xmin(the_geom) AS west, ST_Xmax(the_geom) AS east, \\\n",
    "ST_Ymin(the_geom) AS south, ST_Ymax(the_geom) AS north \\\n",
    "FROM wgs84geom\"\n",
    "\n",
    "# Query\n",
    "query=\"CREATE TABLE \"+user[\"schema\"]+\".\"+user[\"bbox_coord\"]+\" AS (\"\n",
    "query+=subquery1+\")\"\n",
    "\n",
    "# Execute the CREATE TABLE query \n",
    "cur.execute(query)\n",
    "# Make the changes to the database persistent\n",
    "db.commit()\n",
    "# Close cursor and communication with the database\n",
    "cur.close()\n",
    "db.close()"
   ]
  },
  {
   "cell_type": "code",
   "execution_count": 193,
   "metadata": {
    "collapsed": false,
    "scrolled": true
   },
   "outputs": [
    {
     "data": {
      "text/html": [
       "<div>\n",
       "<table border=\"1\" class=\"dataframe\">\n",
       "  <thead>\n",
       "    <tr style=\"text-align: right;\">\n",
       "      <th></th>\n",
       "      <th>west</th>\n",
       "      <th>east</th>\n",
       "      <th>south</th>\n",
       "      <th>north</th>\n",
       "    </tr>\n",
       "  </thead>\n",
       "  <tbody>\n",
       "    <tr>\n",
       "      <th>0</th>\n",
       "      <td>28.953869</td>\n",
       "      <td>29.139637</td>\n",
       "      <td>-2.288842</td>\n",
       "      <td>-1.873235</td>\n",
       "    </tr>\n",
       "  </tbody>\n",
       "</table>\n",
       "</div>"
      ],
      "text/plain": [
       "        west       east     south     north\n",
       "0  28.953869  29.139637 -2.288842 -1.873235"
      ]
     },
     "execution_count": 193,
     "metadata": {},
     "output_type": "execute_result"
    }
   ],
   "source": [
    "# Connect to an existing database\n",
    "db=pg.connect(dbname=user[\"dbname\"], user=user[\"user\"], password=user[\"password\"], host=user[\"host\"])\n",
    "# Number of line to show (please limit to 100 for saving computing time)\n",
    "nbrow=500\n",
    "# Query\n",
    "query=\"SELECT * FROM \"+user[\"schema\"]+\".\"+user[\"bbox_coord\"]+\" \\\n",
    "LIMIT \"+str(nbrow)\n",
    "# Execute query through panda\n",
    "df_bbox_coord=pd.read_sql(query, db)\n",
    "# Show dataframe\n",
    "df_bbox_coord.head(50)"
   ]
  },
  {
   "cell_type": "code",
   "execution_count": 194,
   "metadata": {
    "collapsed": false
   },
   "outputs": [],
   "source": [
    "## Save coordinates in variables\n",
    "north_coord=round(df_bbox_coord.loc[0,['north']],6)\n",
    "south_coord=round(df_bbox_coord.loc[0,['south']],6)\n",
    "west_coord=round(df_bbox_coord.loc[0,['west']],6)\n",
    "east_coord=round(df_bbox_coord.loc[0,['east']],6)"
   ]
  },
  {
   "cell_type": "markdown",
   "metadata": {},
   "source": [
    "**-_-_-_-_-_-_-_-_-_-_-_-_-_-_-_-_-_-_-_-_-_-_-_-_-_-_-_-_-_-_-_-_-_-_-_-_-_-_-_-_-_-_-_-_-_-_-_-_-_-_-_-_-_-_-_-_-_-_-_-_-**"
   ]
  },
  {
   "cell_type": "markdown",
   "metadata": {},
   "source": [
    "# Download OpenStreetMap data using Xapi"
   ]
  },
  {
   "cell_type": "markdown",
   "metadata": {},
   "source": [
    "Here after, the OpenStreetMap (OSM) data will be downloaded for the AOI. For this prupose, OSM Xapi is used. Please read [this page](http://wiki.openstreetmap.org/wiki/Xapi) or [this one](http://wiki.openstreetmap.org/wiki/Overpass_API/XAPI_Compatibility_Layer) for extra information on Xapi. Please notice that the '@meta' is important to download informations about the osm features (last user, timestamp). Osm2pgsql use a .style file which manage how to osm data will be uploaded in the Postgis database. Please use [this .style file](https://github.com/tgrippa/Mapathon_HOT_OSM_WhatWeMapped/blob/master/default_OSMmetadata.style) wich allow to upload the metadata correctly."
   ]
  },
  {
   "cell_type": "code",
   "execution_count": 195,
   "metadata": {
    "collapsed": false,
    "scrolled": false
   },
   "outputs": [
    {
     "name": "stdout",
     "output_type": "stream",
     "text": [
      "OSM data will be downloaded for bbox (W:28.953869 S:-2.288842 E:29.139637N:-1.873235)\n",
      "http://www.overpass-api.de/api/xapi?*[bbox=28.953869,-2.288842,29.139637,-1.873235][@meta]\n"
     ]
    }
   ],
   "source": [
    "import urllib\n",
    "\n",
    "## Create the Xapi URL to download the data\n",
    "print \"OSM data will be downloaded for bbox (W:\"+str(west_coord)+\" S:\"+str(south_coord)+\" E:\"+str(east_coord)+\" N:\"+str(north_coord)+\")\"\n",
    "\n",
    "osm_api_base_url=\"http://www.overpass-api.de/api/xapi?*\"\n",
    "osm_api_url=osm_api_base_url+\"[bbox=\"+str(west_coord)+\",\"+str(south_coord)+\",\"+str(east_coord)+\",\"+str(north_coord)+\"][@meta]\"\n",
    "\n",
    "osm_file=user[\"osmfolder\"]+\"/\"+user[\"prefixosm\"]+\".osm\"\n",
    "\n",
    "## Retrieve the .osm file with the URL\n",
    "urllib.urlretrieve (osm_api_url, osm_file)\n",
    "print osm_api_url"
   ]
  },
  {
   "cell_type": "markdown",
   "metadata": {},
   "source": [
    "# Import OSM layers in PostGis database"
   ]
  },
  {
   "cell_type": "code",
   "execution_count": 196,
   "metadata": {
    "collapsed": false
   },
   "outputs": [],
   "source": [
    "## Makes a 5sec stop in the process\n",
    "import time\n",
    "time.sleep(5)\n",
    "\n",
    "## Build the osm2pgsql command-line\n",
    "cmdline=\"\"\n",
    "cmdline=\"set PGPASSWORD=\"+user[\"password\"]+\"\\n\"\n",
    "cmdline+=\"osm2pgsql -c -d \"+user[\"dbname\"]+\" \" \n",
    "cmdline+=\"-U \"+user[\"user\"]+\" \"\n",
    "cmdline+=\"-H \"+user[\"host\"]+\" \"\n",
    "cmdline+=\"--extra-attributes\"+\" \"\n",
    "cmdline+=\"-p \"+user[\"prefixosm\"]+\" \"\n",
    "cmdline+=\"-S \"+user[\"stylefile\"]+\" \"\n",
    "cmdline+=user[\"osmfolder\"]+\"/\"+user[\"prefixosm\"]+\".osm\"\n",
    "\n",
    "## Create temp bash file for osm2pgsql\n",
    "outputcsv=tempfile.gettempdir()+\"\\\\tmp_bash.bat\" # Define the csv output file name\n",
    "f = open(outputcsv, 'w')\n",
    "f.write(cmdline)\n",
    "f.close()"
   ]
  },
  {
   "cell_type": "code",
   "execution_count": 197,
   "metadata": {
    "collapsed": false
   },
   "outputs": [
    {
     "name": "stdout",
     "output_type": "stream",
     "text": [
      "Microsoft Windows [version 6.1.7601]\r\n",
      "Copyright (c) 2009 Microsoft Corporation. Tous droits r�serv�s.\r\n",
      "\r\n",
      "F:\\Tais\\Dropbox\\BROL\\Mapathon_Tais\\Qgis_timemanager>%Temp%\\tmp_bash.bat\n",
      "\r\n",
      "F:\\Tais\\Dropbox\\BROL\\Mapathon_Tais\\Qgis_timemanager>set PGPASSWORD=tais \r\n",
      "\r\n",
      "F:\\Tais\\Dropbox\\BROL\\Mapathon_Tais\\Qgis_timemanager>osm2pgsql -c -d Mapathon -U tais -H localhost --extra-attributes -p osm -S C:\\Users\\Admin_ULB\\osm2pgsql-bin\\default_TG.style F:\\Tais\\Dropbox\\BROL\\Mapathon_Tais\\Qgis_timemanager\\Belgianmapathon2016/osm.osm \r\n",
      "\r\n",
      "F:\\Tais\\Dropbox\\BROL\\Mapathon_Tais\\Qgis_timemanager>"
     ]
    },
    {
     "name": "stderr",
     "output_type": "stream",
     "text": [
      "osm2pgsql version 0.93.0-dev (64 bit id space)\r\n",
      "\r\n",
      "Using built-in tag processing pipeline\r\n",
      "Using projection SRS 3857 (Spherical Mercator)\r\n",
      "Setting up table: osm_point\r\n",
      "Setting up table: osm_line\r\n",
      "Setting up table: osm_polygon\r\n",
      "Setting up table: osm_roads\r\n",
      "Allocating memory for sparse node cache\r\n",
      "Node-cache: cache=800MB, maxblocks=12800*65536, allocation method=1\r\n",
      "\r\n",
      "Reading in file: F:\\Tais\\Dropbox\\BROL\\Mapathon_Tais\\Qgis_timemanager\\Belgianmapathon2016/osm.osm\r\n",
      "Using XML parser.\r\n",
      "  parse time: 0s\r\n",
      "Node stats: total(179354), max(4738114840) in 0s\r\n",
      "Way stats: total(30788), max(460859657) in 0s\r\n",
      "Relation stats: total(24), max(6143205) in 0s\r\n",
      "Committing transaction for osm_point\r\n",
      "Committing transaction for osm_line\r\n",
      "Committing transaction for osm_polygon\r\n",
      "Committing transaction for osm_roads\r\n",
      "Using built-in tag processing pipeline\r\n",
      "Using built-in tag processing pipeline\r\n",
      "Using built-in tag processing pipeline\r\n",
      "Using built-in tag processing pipeline\r\n",
      "\r\n",
      "Going over pending ways...\r\n",
      "\t29804 ways are pending\r\n",
      "\r\n",
      "Using 4 helper-processes\r\n",
      "\r",
      "Finished processing 29804 ways in 1 s\r\n",
      "\r\n",
      "29804 Pending ways took 1s at a rate of 29804.00/s\r\n",
      "Committing transaction for osm_point\r\n",
      "Committing transaction for osm_line\r\n",
      "Committing transaction for osm_polygon\r\n",
      "Committing transaction for osm_roads\r\n",
      "Committing transaction for osm_point\r\n",
      "Committing transaction for osm_line\r\n",
      "Committing transaction for osm_polygon\r\n",
      "Committing transaction for osm_roads\r\n",
      "Committing transaction for osm_point\r\n",
      "Committing transaction for osm_line\r\n",
      "Committing transaction for osm_polygon\r\n",
      "Committing transaction for osm_roads\r\n",
      "Committing transaction for osm_point\r\n",
      "Committing transaction for osm_line\r\n",
      "Committing transaction for osm_polygon\r\n",
      "Committing transaction for osm_roads\r\n",
      "\r\n",
      "Going over pending relations...\r\n",
      "\t0 relations are pending\r\n",
      "\r\n",
      "Using 4 helper-processes\r\n",
      "\r",
      "Finished processing 0 relations in 0 s\r\n",
      "\r\n",
      "Committing transaction for osm_point\r\n",
      "Committing transaction for osm_line\r\n",
      "Committing transaction for osm_polygon\r\n",
      "Committing transaction for osm_roads\r\n",
      "Committing transaction for osm_point\r\n",
      "Committing transaction for osm_line\r\n",
      "Committing transaction for osm_polygon\r\n",
      "Committing transaction for osm_roads\r\n",
      "Committing transaction for osm_point\r\n",
      "Committing transaction for osm_line\r\n",
      "Committing transaction for osm_polygon\r\n",
      "Committing transaction for osm_roads\r\n",
      "Committing transaction for osm_point\r\n",
      "Committing transaction for osm_line\r\n",
      "Committing transaction for osm_polygon\r\n",
      "Committing transaction for osm_roads\r\n",
      "node cache: stored: 179354(100.00%), storage efficiency: 50.00% (dense blocks: 0, sparse nodes: 179354), hit rate: 100.00%\r\n",
      "Sorting data and creating indexes for osm_point\r\n",
      "Sorting data and creating indexes for osm_line\r\n",
      "Sorting data and creating indexes for osm_polygon\r\n",
      "Sorting data and creating indexes for osm_roads\r\n",
      "Copying osm_point to cluster by geometry finished\r\n",
      "Creating geometry index on osm_point\r\n",
      "Creating indexes on osm_point finished\r\n",
      "All indexes on osm_point created in 0s\r\n",
      "Completed osm_point\r\n",
      "Copying osm_line to cluster by geometry finished\r\n",
      "Creating geometry index on osm_line\r\n",
      "Creating indexes on osm_line finished\r\n",
      "Copying osm_roads to cluster by geometry finished\r\n",
      "Creating geometry index on osm_roads\r\n",
      "Creating indexes on osm_roads finished\r\n",
      "All indexes on osm_roads created in 0s\r\n",
      "Completed osm_roads\r\n",
      "All indexes on osm_line created in 0s\r\n",
      "Completed osm_line\r\n",
      "Copying osm_polygon to cluster by geometry finished\r\n",
      "Creating geometry index on osm_polygon\r\n",
      "Creating indexes on osm_polygon finished\r\n",
      "All indexes on osm_polygon created in 1s\r\n",
      "Completed osm_polygon\r\n",
      "\r\n",
      "Osm2pgsql took 4s overall\r\n",
      "ATTENTION:  aucune transaction en cours\r\n",
      "ATTENTION:  aucune transaction en cours\r\n",
      "ATTENTION:  aucune transaction en cours\r\n",
      "ATTENTION:  aucune transaction en cours\r\n",
      "ATTENTION:  aucune transaction en cours\r\n",
      "ATTENTION:  aucune transaction en cours\r\n",
      "ATTENTION:  aucune transaction en cours\r\n",
      "ATTENTION:  aucune transaction en cours\r\n",
      "ATTENTION:  aucune transaction en cours\r\n",
      "ATTENTION:  aucune transaction en cours\r\n",
      "ATTENTION:  aucune transaction en cours\r\n",
      "ATTENTION:  aucune transaction en cours\r\n",
      "ATTENTION:  aucune transaction en cours\r\n",
      "ATTENTION:  aucune transaction en cours\r\n",
      "ATTENTION:  aucune transaction en cours\r\n",
      "ATTENTION:  aucune transaction en cours\r\n"
     ]
    }
   ],
   "source": [
    "%%cmd\n",
    "%Temp%\\tmp_bash.bat"
   ]
  },
  {
   "cell_type": "code",
   "execution_count": 198,
   "metadata": {
    "collapsed": false
   },
   "outputs": [],
   "source": [
    "## Erase the temporary 'reclass_rule.csv' file\n",
    "os.remove(outputcsv)"
   ]
  },
  {
   "cell_type": "markdown",
   "metadata": {},
   "source": [
    "Here after, the osm table \"line\" and \"polygon\" will be moved to the current user's schema.\n",
    "\n",
    "As HOT's tasks (Humanitarian OpenStreetMap Team) generally focus on highways, buildings and residential area, these features are the only one kept for the rest of this notebook. If you need something else, you should adapt the code."
   ]
  },
  {
   "cell_type": "code",
   "execution_count": 199,
   "metadata": {
    "collapsed": false,
    "scrolled": true
   },
   "outputs": [],
   "source": [
    "## Move tables \"lines\" and \"polygons\" in current schema\n",
    "\n",
    "# Connect to an existing database\n",
    "db=pg.connect(dbname=user[\"dbname\"], user=user[\"user\"], password=user[\"password\"], host=user[\"host\"])\n",
    "# Open a cursor to perform database operations\n",
    "cur=db.cursor()\n",
    "\n",
    "# Drop table if exists:\n",
    "cur.execute(\"DROP TABLE IF EXISTS \"+user[\"schema\"]+\".\"+user[\"prefixosm\"]+\"_\"+\"line\")\n",
    "# Drop table if exists:\n",
    "cur.execute(\"DROP TABLE IF EXISTS \"+user[\"schema\"]+\".\"+user[\"prefixosm\"]+\"_\"+\"polygon\")\n",
    "# Make the changes to the database persistent\n",
    "db.commit()\n",
    "\n",
    "# Copy table from public schema to current schema (only intersections with AOI):\n",
    "subquery1=\"WITH \\\n",
    "lines AS(\\\n",
    "SELECT  (ST_Dump(ST_Intersection(l.way, aoi.geom))).geom AS the_geom, l.*  \\\n",
    "FROM \"+user[\"schema\"]+\".\"+user[\"aoi\"]+\" AS aoi, public.\"+user[\"prefixosm\"]+\"_\"+\"line\"+\" AS l \\\n",
    "WHERE l.highway is not null) \\\n",
    "\\\n",
    "SELECT * FROM lines\"\n",
    "# Query\n",
    "query=\"CREATE TABLE \"+user[\"schema\"]+\".\"+user[\"prefixosm\"]+\"_\"+\"line AS (\"\n",
    "query+=subquery1+\")\"\n",
    "# Execute the CREATE TABLE query \n",
    "cur.execute(query)\n",
    "\n",
    "# Copy table from public schema to current schema (only intersections with AOI):\n",
    "subquery1=\"WITH \\\n",
    "poly AS(\\\n",
    "SELECT  (ST_Dump(ST_Intersection(p.way, aoi.geom))).geom AS the_geom, p.*  \\\n",
    "FROM \"+user[\"schema\"]+\".\"+user[\"aoi\"]+\" AS aoi, public.\"+user[\"prefixosm\"]+\"_\"+\"polygon\"+\" AS p \\\n",
    "WHERE  p.building is not NULL OR p.landuse = 'residential' ) \\\n",
    "\\\n",
    "SELECT * FROM poly\"\n",
    "# Query\n",
    "query=\"CREATE TABLE \"+user[\"schema\"]+\".\"+user[\"prefixosm\"]+\"_\"+\"polygon AS (\"\n",
    "query+=subquery1+\")\"\n",
    "# Execute the CREATE TABLE query \n",
    "cur.execute(query)\n",
    "# Make the changes to the database persistent\n",
    "db.commit()\n",
    "\n",
    "# Drop 'way' column if exists:\n",
    "cur.execute(\"ALTER TABLE \"+user[\"schema\"]+\".\"+user[\"prefixosm\"]+\"_\"+\"line DROP COLUMN IF EXISTS way\")\n",
    "# Drop table if exists:\n",
    "cur.execute(\"ALTER TABLE \"+user[\"schema\"]+\".\"+user[\"prefixosm\"]+\"_\"+\"polygon DROP COLUMN IF EXISTS way\")\n",
    "# Make the changes to the database persistent\n",
    "db.commit()"
   ]
  },
  {
   "cell_type": "markdown",
   "metadata": {},
   "source": [
    "Here after, the table in the \"public\" schema will be droped."
   ]
  },
  {
   "cell_type": "code",
   "execution_count": 200,
   "metadata": {
    "collapsed": false
   },
   "outputs": [],
   "source": [
    "## Drop tables of public schema which will not be used anymore\n",
    "\n",
    "# Connect to an existing database\n",
    "db=pg.connect(dbname=user[\"dbname\"], user=user[\"user\"], password=user[\"password\"], host=user[\"host\"])\n",
    "# Open a cursor to perform database operations\n",
    "cur=db.cursor()\n",
    "\n",
    "# Drop table if exists:\n",
    "cur.execute(\"DROP TABLE IF EXISTS public.\"+user[\"prefixosm\"]+\"_\"+\"point\")\n",
    "# Drop table if exists:\n",
    "cur.execute(\"DROP TABLE IF EXISTS public.\"+user[\"prefixosm\"]+\"_\"+\"roads\")\n",
    "# Drop table if exists:\n",
    "cur.execute(\"DROP TABLE IF EXISTS public.\"+user[\"prefixosm\"]+\"_\"+\"line\")\n",
    "# Drop table if exists:\n",
    "cur.execute(\"DROP TABLE IF EXISTS public.\"+user[\"prefixosm\"]+\"_\"+\"polygon\")\n",
    "\n",
    "# Make the changes to the database persistent\n",
    "db.commit()"
   ]
  },
  {
   "cell_type": "markdown",
   "metadata": {},
   "source": [
    "**-_-_-_-_-_-_-_-_-_-_-_-_-_-_-_-_-_-_-_-_-_-_-_-_-_-_-_-_-_-_-_-_-_-_-_-_-_-_-_-_-_-_-_-_-_-_-_-_-_-_-_-_-_-_-_-_-_-_-_-_-**"
   ]
  },
  {
   "cell_type": "markdown",
   "metadata": {},
   "source": [
    "# Timestamp for Qgis timemanager plugin"
   ]
  },
  {
   "cell_type": "markdown",
   "metadata": {},
   "source": [
    "## Add new colum 'forever' for Qgis timemanager"
   ]
  },
  {
   "cell_type": "code",
   "execution_count": 201,
   "metadata": {
    "collapsed": true
   },
   "outputs": [],
   "source": [
    "# Connect to an existing database\n",
    "db=pg.connect(dbname=user[\"dbname\"], user=user[\"user\"], password=user[\"password\"], host=user[\"host\"])\n",
    "# Open a cursor to perform database operations\n",
    "cur=db.cursor()\n",
    "\n",
    "# Query:\n",
    "cur.execute(\"ALTER TABLE \"+user[\"schema\"]+\".\"+user[\"prefixosm\"]+\"_\"+\"line ADD COLUMN IF NOT EXISTS forever timestamp(0) with time zone\")\n",
    "cur.execute(\"ALTER TABLE \"+user[\"schema\"]+\".\"+user[\"prefixosm\"]+\"_\"+\"polygon ADD COLUMN IF NOT EXISTS forever timestamp(0) with time zone\")\n",
    "\n",
    "# Make the changes to the database persistent\n",
    "db.commit()"
   ]
  },
  {
   "cell_type": "code",
   "execution_count": 206,
   "metadata": {
    "collapsed": false
   },
   "outputs": [],
   "source": [
    "# Connect to an existing database\n",
    "db=pg.connect(dbname=user[\"dbname\"], user=user[\"user\"], password=user[\"password\"], host=user[\"host\"])\n",
    "# Open a cursor to perform database operations\n",
    "cur=db.cursor()\n",
    "\n",
    "# Query:\n",
    "cur.execute(\"UPDATE \"+user[\"schema\"]+\".\"+user[\"prefixosm\"]+\"_\"+\"line SET forever=TIMESTAMP WITH TIME ZONE '2030-01-01 00:00:00+01'\")\n",
    "cur.execute(\"UPDATE \"+user[\"schema\"]+\".\"+user[\"prefixosm\"]+\"_\"+\"polygon SET forever=TIMESTAMP WITH TIME ZONE '2030-01-01 00:00:00+01'\")\n",
    "# Make the changes to the database persistent\n",
    "db.commit()"
   ]
  },
  {
   "cell_type": "markdown",
   "metadata": {},
   "source": [
    "# Export shapefile"
   ]
  },
  {
   "cell_type": "markdown",
   "metadata": {},
   "source": [
    "Here after, the tables 'line' and 'polygon' are exported from Postgis as shapefiles for gentle use in Qgis."
   ]
  },
  {
   "cell_type": "markdown",
   "metadata": {},
   "source": [
    "### Export lines table"
   ]
  },
  {
   "cell_type": "code",
   "execution_count": 207,
   "metadata": {
    "collapsed": false
   },
   "outputs": [
    {
     "name": "stdout",
     "output_type": "stream",
     "text": [
      "set PGPASSWORD=tais\n",
      "pgsql2shp -f F:\\Tais\\Dropbox\\BROL\\Mapathon_Tais\\Qgis_timemanager\\Belgianmapathon2016\\output_line.shp  -h localhost -u tais Mapathon belgianmapath2016.osm_line\n"
     ]
    }
   ],
   "source": [
    "## Build the pgsql2shp command-line\n",
    "cmdline=\"set PGPASSWORD=\"+user[\"password\"]+\"\\n\"\n",
    "cmdline+=\"pgsql2shp -f \"\n",
    "cmdline+=user[\"output_lineshp\"]+\" \"\n",
    "cmdline+=\" -h \"+user[\"host\"]+\" -u \"+user[\"user\"]+\" \"\n",
    "cmdline+=user[\"dbname\"]+\" \"\n",
    "cmdline+=user[\"schema\"]+\".\"+user[\"prefixosm\"]+\"_\"+\"line\"\n",
    "\n",
    "## Create temp bash file for pgsql2shp\n",
    "outputcsv=tempfile.gettempdir()+\"\\\\tmp_bash.bat\" # Define the csv output file name\n",
    "f = open(outputcsv, 'w')\n",
    "f.write(cmdline)\n",
    "f.close()\n",
    "\n",
    "print cmdline"
   ]
  },
  {
   "cell_type": "code",
   "execution_count": 208,
   "metadata": {
    "collapsed": false
   },
   "outputs": [
    {
     "name": "stdout",
     "output_type": "stream",
     "text": [
      "Microsoft Windows [version 6.1.7601]\r\n",
      "Copyright (c) 2009 Microsoft Corporation. Tous droits r�serv�s.\r\n",
      "\r\n",
      "F:\\Tais\\Dropbox\\BROL\\Mapathon_Tais\\Qgis_timemanager>%Temp%\\tmp_bash.bat\n",
      "\r\n",
      "F:\\Tais\\Dropbox\\BROL\\Mapathon_Tais\\Qgis_timemanager>set PGPASSWORD=tais \r\n",
      "\r\n",
      "F:\\Tais\\Dropbox\\BROL\\Mapathon_Tais\\Qgis_timemanager>pgsql2shp -f F:\\Tais\\Dropbox\\BROL\\Mapathon_Tais\\Qgis_timemanager\\Belgianmapathon2016\\output_line.shp  -h localhost -u tais Mapathon belgianmapath2016.osm_line \r\n",
      "Initializing... \r\n",
      "Done (postgis major version: 2).\r\n",
      "Output shape: PolyLine\r\n",
      "Dumping: XXXXXXXX [723 rows].\r\n",
      "\r\n",
      "F:\\Tais\\Dropbox\\BROL\\Mapathon_Tais\\Qgis_timemanager>"
     ]
    }
   ],
   "source": [
    "%%cmd\n",
    "%Temp%\\tmp_bash.bat"
   ]
  },
  {
   "cell_type": "code",
   "execution_count": 209,
   "metadata": {
    "collapsed": false
   },
   "outputs": [],
   "source": [
    "## Erase the temporary 'reclass_rule.csv' file\n",
    "os.remove(outputcsv)"
   ]
  },
  {
   "cell_type": "markdown",
   "metadata": {},
   "source": [
    "### Export polygons table"
   ]
  },
  {
   "cell_type": "code",
   "execution_count": 210,
   "metadata": {
    "collapsed": false
   },
   "outputs": [
    {
     "name": "stdout",
     "output_type": "stream",
     "text": [
      "set PGPASSWORD=tais\n",
      "pgsql2shp -f F:\\Tais\\Dropbox\\BROL\\Mapathon_Tais\\Qgis_timemanager\\Belgianmapathon2016\\output_polygon.shp  -h localhost -u tais Mapathon belgianmapath2016.osm_polygon\n"
     ]
    }
   ],
   "source": [
    "## Build the pgsql2shp command-line\n",
    "cmdline=\"set PGPASSWORD=\"+user[\"password\"]+\"\\n\"\n",
    "cmdline+=\"pgsql2shp -f \"\n",
    "cmdline+=user[\"output_polygonshp\"]+\" \"\n",
    "cmdline+=\" -h \"+user[\"host\"]+\" -u \"+user[\"user\"]+\" \"\n",
    "cmdline+=user[\"dbname\"]+\" \"\n",
    "cmdline+=user[\"schema\"]+\".\"+user[\"prefixosm\"]+\"_\"+\"polygon\"\n",
    "\n",
    "## Create temp bash file for osm2pgsql\n",
    "outputcsv=tempfile.gettempdir()+\"\\\\tmp_bash.bat\" # Define the csv output file name\n",
    "f = open(outputcsv, 'w')\n",
    "f.write(cmdline)\n",
    "f.close()\n",
    "\n",
    "print cmdline"
   ]
  },
  {
   "cell_type": "code",
   "execution_count": 211,
   "metadata": {
    "collapsed": false
   },
   "outputs": [
    {
     "name": "stdout",
     "output_type": "stream",
     "text": [
      "Microsoft Windows [version 6.1.7601]\r\n",
      "Copyright (c) 2009 Microsoft Corporation. Tous droits r�serv�s.\r\n",
      "\r\n",
      "F:\\Tais\\Dropbox\\BROL\\Mapathon_Tais\\Qgis_timemanager>%Temp%\\tmp_bash.bat\n",
      "\r\n",
      "F:\\Tais\\Dropbox\\BROL\\Mapathon_Tais\\Qgis_timemanager>set PGPASSWORD=tais \r\n",
      "\r\n",
      "F:\\Tais\\Dropbox\\BROL\\Mapathon_Tais\\Qgis_timemanager>pgsql2shp -f F:\\Tais\\Dropbox\\BROL\\Mapathon_Tais\\Qgis_timemanager\\Belgianmapathon2016\\output_polygon.shp  -h localhost -u tais Mapathon belgianmapath2016.osm_polygon \r\n",
      "Initializing... \r\n",
      "Done (postgis major version: 2).\r\n",
      "Output shape: Polygon\r\n",
      "Dumping: XXXXXXXXXXXXXXXXXXXXXXXXXXXXXXXXXXXXXXXXXXXXXXXXXXXXXXXXXXXXXXXXXXXXXXXXXXXXXXXXXXXXXXXXXXXXXXXXXXXXXXXXXXXXXXXXXXXXXXXXXXXXXXXXXXXXXXXXXXXXXXXXXXXXXXXXXXXXXXXXXXXXXXXXXXXXXXXXXXXXXXXXXXXXXXXXXXXXXXXXXXXXXXXXXXXXXXXXXXXXXXXXXXXXXXXXXXXXXXXXXXXXXXXXXXXXXXXXXXXXXXXXXXXXXXXXXXXXXXXXXXXXXXXXXXX [29024 rows].\r\n",
      "\r\n",
      "F:\\Tais\\Dropbox\\BROL\\Mapathon_Tais\\Qgis_timemanager>"
     ]
    }
   ],
   "source": [
    "%%cmd\n",
    "%Temp%\\tmp_bash.bat"
   ]
  },
  {
   "cell_type": "code",
   "execution_count": 212,
   "metadata": {
    "collapsed": false
   },
   "outputs": [],
   "source": [
    "## Erase the temporary 'reclass_rule.csv' file\n",
    "os.remove(outputcsv)"
   ]
  },
  {
   "cell_type": "markdown",
   "metadata": {},
   "source": [
    "# Mapathon statistics"
   ]
  },
  {
   "cell_type": "markdown",
   "metadata": {},
   "source": [
    "Here after, some basic stats are computed to inform on key infos of the mapathon. You could add extra stats if you want."
   ]
  },
  {
   "cell_type": "code",
   "execution_count": 213,
   "metadata": {
    "collapsed": true
   },
   "outputs": [],
   "source": [
    "# Enter starting time of the mapathon (YYYY-MM-DD HH:MM:SS)\n",
    "begintimemapping='2016-04-16 08:00:00'\n",
    "# Enter ending time of the mapathon (YYYY-MM-DD HH:MM:SS)\n",
    "endingtimemapping='2016-04-16 20:00:00'"
   ]
  },
  {
   "cell_type": "markdown",
   "metadata": {},
   "source": [
    "### Number of unique mapper"
   ]
  },
  {
   "cell_type": "code",
   "execution_count": 214,
   "metadata": {
    "collapsed": false,
    "scrolled": true
   },
   "outputs": [
    {
     "data": {
      "text/html": [
       "<div>\n",
       "<table border=\"1\" class=\"dataframe\">\n",
       "  <thead>\n",
       "    <tr style=\"text-align: right;\">\n",
       "      <th></th>\n",
       "      <th>count</th>\n",
       "    </tr>\n",
       "  </thead>\n",
       "  <tbody>\n",
       "    <tr>\n",
       "      <th>0</th>\n",
       "      <td>177</td>\n",
       "    </tr>\n",
       "  </tbody>\n",
       "</table>\n",
       "</div>"
      ],
      "text/plain": [
       "   count\n",
       "0    177"
      ]
     },
     "execution_count": 214,
     "metadata": {},
     "output_type": "execute_result"
    }
   ],
   "source": [
    "# Connect to an existing database\n",
    "db=pg.connect(dbname=user[\"dbname\"], user=user[\"user\"], password=user[\"password\"], host=user[\"host\"])\n",
    "# Number of line to show (please limit to 100 for saving computing time)\n",
    "nbrow=500\n",
    "# Query\n",
    "query=\"WITH distinctuser_line AS(\\\n",
    "SELECT DISTINCT osm_user FROM \"+user[\"schema\"]+\".\"+user[\"prefixosm\"]+\"_\"+\"line \\\n",
    "WHERE osm_timestamp >= '\"+str(begintimemapping)+\"' AND osm_timestamp <= '\"+str(endingtimemapping)+\"'), \\\n",
    "\\\n",
    "distinctuser_polygon AS(\\\n",
    "SELECT DISTINCT osm_user FROM \"+user[\"schema\"]+\".\"+user[\"prefixosm\"]+\"_\"+\"polygon \\\n",
    "WHERE osm_timestamp >= '\"+str(begintimemapping)+\"' AND osm_timestamp <= '\"+str(endingtimemapping)+\"'), \\\n",
    "\\\n",
    "global_distinctuser AS(\\\n",
    "SELECT * FROM distinctuser_line \\\n",
    "UNION \\\n",
    "SELECT * FROM distinctuser_polygon)\\\n",
    "\\\n",
    "SELECT count(*) FROM global_distinctuser\"\n",
    "\n",
    "# Execute query through panda\n",
    "df_bbox_coord=pd.read_sql(query, db)\n",
    "# Show dataframe\n",
    "df_bbox_coord.head(50)"
   ]
  },
  {
   "cell_type": "markdown",
   "metadata": {},
   "source": [
    "### Number of editions by mapper"
   ]
  },
  {
   "cell_type": "code",
   "execution_count": 215,
   "metadata": {
    "collapsed": false
   },
   "outputs": [
    {
     "data": {
      "text/html": [
       "<div>\n",
       "<table border=\"1\" class=\"dataframe\">\n",
       "  <thead>\n",
       "    <tr style=\"text-align: right;\">\n",
       "      <th></th>\n",
       "      <th>osm_user</th>\n",
       "      <th>count</th>\n",
       "    </tr>\n",
       "  </thead>\n",
       "  <tbody>\n",
       "    <tr>\n",
       "      <th>0</th>\n",
       "      <td>GeoFrizz</td>\n",
       "      <td>422</td>\n",
       "    </tr>\n",
       "    <tr>\n",
       "      <th>1</th>\n",
       "      <td>lbataille</td>\n",
       "      <td>401</td>\n",
       "    </tr>\n",
       "    <tr>\n",
       "      <th>2</th>\n",
       "      <td>ouaip123</td>\n",
       "      <td>350</td>\n",
       "    </tr>\n",
       "    <tr>\n",
       "      <th>3</th>\n",
       "      <td>L'imaginaire</td>\n",
       "      <td>348</td>\n",
       "    </tr>\n",
       "    <tr>\n",
       "      <th>4</th>\n",
       "      <td>Anakil</td>\n",
       "      <td>343</td>\n",
       "    </tr>\n",
       "    <tr>\n",
       "      <th>5</th>\n",
       "      <td>MerkatorLeuven</td>\n",
       "      <td>335</td>\n",
       "    </tr>\n",
       "    <tr>\n",
       "      <th>6</th>\n",
       "      <td>ArticCynda</td>\n",
       "      <td>321</td>\n",
       "    </tr>\n",
       "    <tr>\n",
       "      <th>7</th>\n",
       "      <td>mclaeysb</td>\n",
       "      <td>317</td>\n",
       "    </tr>\n",
       "    <tr>\n",
       "      <th>8</th>\n",
       "      <td>lvdorpe</td>\n",
       "      <td>316</td>\n",
       "    </tr>\n",
       "    <tr>\n",
       "      <th>9</th>\n",
       "      <td>SoMeurrens</td>\n",
       "      <td>307</td>\n",
       "    </tr>\n",
       "    <tr>\n",
       "      <th>10</th>\n",
       "      <td>MiStaPones</td>\n",
       "      <td>293</td>\n",
       "    </tr>\n",
       "    <tr>\n",
       "      <th>11</th>\n",
       "      <td>franz825</td>\n",
       "      <td>292</td>\n",
       "    </tr>\n",
       "    <tr>\n",
       "      <th>12</th>\n",
       "      <td>smossoux</td>\n",
       "      <td>291</td>\n",
       "    </tr>\n",
       "    <tr>\n",
       "      <th>13</th>\n",
       "      <td>EliH1</td>\n",
       "      <td>286</td>\n",
       "    </tr>\n",
       "    <tr>\n",
       "      <th>14</th>\n",
       "      <td>Vincent Bombaerts</td>\n",
       "      <td>286</td>\n",
       "    </tr>\n",
       "    <tr>\n",
       "      <th>15</th>\n",
       "      <td>dwvermee</td>\n",
       "      <td>284</td>\n",
       "    </tr>\n",
       "    <tr>\n",
       "      <th>16</th>\n",
       "      <td>SofieDG</td>\n",
       "      <td>276</td>\n",
       "    </tr>\n",
       "    <tr>\n",
       "      <th>17</th>\n",
       "      <td>Nele Op de Beeck</td>\n",
       "      <td>269</td>\n",
       "    </tr>\n",
       "    <tr>\n",
       "      <th>18</th>\n",
       "      <td>ingelsromain</td>\n",
       "      <td>265</td>\n",
       "    </tr>\n",
       "    <tr>\n",
       "      <th>19</th>\n",
       "      <td>loesvs</td>\n",
       "      <td>262</td>\n",
       "    </tr>\n",
       "    <tr>\n",
       "      <th>20</th>\n",
       "      <td>Madeleine Guyot</td>\n",
       "      <td>261</td>\n",
       "    </tr>\n",
       "    <tr>\n",
       "      <th>21</th>\n",
       "      <td>Reteiper</td>\n",
       "      <td>256</td>\n",
       "    </tr>\n",
       "    <tr>\n",
       "      <th>22</th>\n",
       "      <td>aglaé</td>\n",
       "      <td>253</td>\n",
       "    </tr>\n",
       "    <tr>\n",
       "      <th>23</th>\n",
       "      <td>Sego1996</td>\n",
       "      <td>252</td>\n",
       "    </tr>\n",
       "    <tr>\n",
       "      <th>24</th>\n",
       "      <td>fpriem</td>\n",
       "      <td>249</td>\n",
       "    </tr>\n",
       "    <tr>\n",
       "      <th>25</th>\n",
       "      <td>broussieau</td>\n",
       "      <td>246</td>\n",
       "    </tr>\n",
       "    <tr>\n",
       "      <th>26</th>\n",
       "      <td>Ramasotto</td>\n",
       "      <td>235</td>\n",
       "    </tr>\n",
       "    <tr>\n",
       "      <th>27</th>\n",
       "      <td>Lamitier</td>\n",
       "      <td>224</td>\n",
       "    </tr>\n",
       "    <tr>\n",
       "      <th>28</th>\n",
       "      <td>maulpg97</td>\n",
       "      <td>223</td>\n",
       "    </tr>\n",
       "    <tr>\n",
       "      <th>29</th>\n",
       "      <td>saluuuuuut</td>\n",
       "      <td>223</td>\n",
       "    </tr>\n",
       "    <tr>\n",
       "      <th>30</th>\n",
       "      <td>mitruc</td>\n",
       "      <td>218</td>\n",
       "    </tr>\n",
       "    <tr>\n",
       "      <th>31</th>\n",
       "      <td>Marie-Cerise</td>\n",
       "      <td>214</td>\n",
       "    </tr>\n",
       "    <tr>\n",
       "      <th>32</th>\n",
       "      <td>Rarousseau</td>\n",
       "      <td>212</td>\n",
       "    </tr>\n",
       "    <tr>\n",
       "      <th>33</th>\n",
       "      <td>izzapizza</td>\n",
       "      <td>210</td>\n",
       "    </tr>\n",
       "    <tr>\n",
       "      <th>34</th>\n",
       "      <td>pool1971</td>\n",
       "      <td>202</td>\n",
       "    </tr>\n",
       "    <tr>\n",
       "      <th>35</th>\n",
       "      <td>mmester</td>\n",
       "      <td>197</td>\n",
       "    </tr>\n",
       "    <tr>\n",
       "      <th>36</th>\n",
       "      <td>Johannes van geertsom</td>\n",
       "      <td>196</td>\n",
       "    </tr>\n",
       "    <tr>\n",
       "      <th>37</th>\n",
       "      <td>ericgijs</td>\n",
       "      <td>194</td>\n",
       "    </tr>\n",
       "    <tr>\n",
       "      <th>38</th>\n",
       "      <td>Clchampagne</td>\n",
       "      <td>194</td>\n",
       "    </tr>\n",
       "    <tr>\n",
       "      <th>39</th>\n",
       "      <td>Chloéq</td>\n",
       "      <td>192</td>\n",
       "    </tr>\n",
       "    <tr>\n",
       "      <th>40</th>\n",
       "      <td>Barbara Bogaert</td>\n",
       "      <td>191</td>\n",
       "    </tr>\n",
       "    <tr>\n",
       "      <th>41</th>\n",
       "      <td>anouk_h</td>\n",
       "      <td>190</td>\n",
       "    </tr>\n",
       "    <tr>\n",
       "      <th>42</th>\n",
       "      <td>aapeeter</td>\n",
       "      <td>187</td>\n",
       "    </tr>\n",
       "    <tr>\n",
       "      <th>43</th>\n",
       "      <td>linda2</td>\n",
       "      <td>185</td>\n",
       "    </tr>\n",
       "    <tr>\n",
       "      <th>44</th>\n",
       "      <td>pedrito1414</td>\n",
       "      <td>185</td>\n",
       "    </tr>\n",
       "    <tr>\n",
       "      <th>45</th>\n",
       "      <td>SergeTaba</td>\n",
       "      <td>185</td>\n",
       "    </tr>\n",
       "    <tr>\n",
       "      <th>46</th>\n",
       "      <td>alifarhat</td>\n",
       "      <td>182</td>\n",
       "    </tr>\n",
       "    <tr>\n",
       "      <th>47</th>\n",
       "      <td>emicastin</td>\n",
       "      <td>179</td>\n",
       "    </tr>\n",
       "    <tr>\n",
       "      <th>48</th>\n",
       "      <td>Flo_Zao</td>\n",
       "      <td>176</td>\n",
       "    </tr>\n",
       "    <tr>\n",
       "      <th>49</th>\n",
       "      <td>fvanderli</td>\n",
       "      <td>176</td>\n",
       "    </tr>\n",
       "  </tbody>\n",
       "</table>\n",
       "</div>"
      ],
      "text/plain": [
       "                 osm_user  count\n",
       "0                GeoFrizz    422\n",
       "1               lbataille    401\n",
       "2                ouaip123    350\n",
       "3            L'imaginaire    348\n",
       "4                  Anakil    343\n",
       "5          MerkatorLeuven    335\n",
       "6              ArticCynda    321\n",
       "7                mclaeysb    317\n",
       "8                 lvdorpe    316\n",
       "9              SoMeurrens    307\n",
       "10             MiStaPones    293\n",
       "11               franz825    292\n",
       "12               smossoux    291\n",
       "13                  EliH1    286\n",
       "14      Vincent Bombaerts    286\n",
       "15               dwvermee    284\n",
       "16                SofieDG    276\n",
       "17       Nele Op de Beeck    269\n",
       "18           ingelsromain    265\n",
       "19                 loesvs    262\n",
       "20        Madeleine Guyot    261\n",
       "21               Reteiper    256\n",
       "22                  aglaé    253\n",
       "23               Sego1996    252\n",
       "24                 fpriem    249\n",
       "25             broussieau    246\n",
       "26              Ramasotto    235\n",
       "27               Lamitier    224\n",
       "28               maulpg97    223\n",
       "29             saluuuuuut    223\n",
       "30                 mitruc    218\n",
       "31           Marie-Cerise    214\n",
       "32             Rarousseau    212\n",
       "33              izzapizza    210\n",
       "34               pool1971    202\n",
       "35                mmester    197\n",
       "36  Johannes van geertsom    196\n",
       "37               ericgijs    194\n",
       "38            Clchampagne    194\n",
       "39                 Chloéq    192\n",
       "40        Barbara Bogaert    191\n",
       "41                anouk_h    190\n",
       "42               aapeeter    187\n",
       "43                 linda2    185\n",
       "44            pedrito1414    185\n",
       "45              SergeTaba    185\n",
       "46              alifarhat    182\n",
       "47              emicastin    179\n",
       "48                Flo_Zao    176\n",
       "49              fvanderli    176"
      ]
     },
     "execution_count": 215,
     "metadata": {},
     "output_type": "execute_result"
    }
   ],
   "source": [
    "# Connect to an existing database\n",
    "db=pg.connect(dbname=user[\"dbname\"], user=user[\"user\"], password=user[\"password\"], host=user[\"host\"])\n",
    "# Number of line to show (please limit to 100 for saving computing time)\n",
    "nbrow=500\n",
    "# Query\n",
    "query=\"WITH \\\n",
    "all_edits AS(\\\n",
    "SELECT * FROM \"+user[\"schema\"]+\".\"+user[\"prefixosm\"]+\"_\"+\"line \\\n",
    "UNION \\\n",
    "SELECT * FROM \"+user[\"schema\"]+\".\"+user[\"prefixosm\"]+\"_\"+\"polygon) \\\n",
    "\\\n",
    "SELECT osm_user, count(*) FROM all_edits \\\n",
    "WHERE osm_timestamp >= '\"+str(begintimemapping)+\"' AND osm_timestamp <= '\"+str(endingtimemapping)+\"' \\\n",
    "GROUP BY osm_user \\\n",
    "ORDER BY count(*) DESC\"\n",
    "# Execute query through panda\n",
    "df_bbox_coord=pd.read_sql(query, db)\n",
    "# Show dataframe\n",
    "df_bbox_coord.head(50)"
   ]
  },
  {
   "cell_type": "markdown",
   "metadata": {},
   "source": [
    "### Number of buildings mapped"
   ]
  },
  {
   "cell_type": "code",
   "execution_count": 216,
   "metadata": {
    "collapsed": false
   },
   "outputs": [
    {
     "data": {
      "text/html": [
       "<div>\n",
       "<table border=\"1\" class=\"dataframe\">\n",
       "  <thead>\n",
       "    <tr style=\"text-align: right;\">\n",
       "      <th></th>\n",
       "      <th>count</th>\n",
       "    </tr>\n",
       "  </thead>\n",
       "  <tbody>\n",
       "    <tr>\n",
       "      <th>0</th>\n",
       "      <td>23036</td>\n",
       "    </tr>\n",
       "  </tbody>\n",
       "</table>\n",
       "</div>"
      ],
      "text/plain": [
       "   count\n",
       "0  23036"
      ]
     },
     "execution_count": 216,
     "metadata": {},
     "output_type": "execute_result"
    }
   ],
   "source": [
    "# Connect to an existing database\n",
    "db=pg.connect(dbname=user[\"dbname\"], user=user[\"user\"], password=user[\"password\"], host=user[\"host\"])\n",
    "# Number of line to show (please limit to 100 for saving computing time)\n",
    "nbrow=500\n",
    "# Query\n",
    "query=\"SELECT count(*) FROM \"+user[\"schema\"]+\".\"+user[\"prefixosm\"]+\"_\"+\"polygon \\\n",
    "WHERE osm_timestamp >= '\"+str(begintimemapping)+\"' AND osm_timestamp <= '\"+str(endingtimemapping)+\"' \\\n",
    "AND building is not null\"\n",
    "# Execute query through panda\n",
    "df_bbox_coord=pd.read_sql(query, db)\n",
    "# Show dataframe\n",
    "df_bbox_coord.head(50)"
   ]
  },
  {
   "cell_type": "markdown",
   "metadata": {},
   "source": [
    "### Number of residential area mapped"
   ]
  },
  {
   "cell_type": "code",
   "execution_count": 272,
   "metadata": {
    "collapsed": false
   },
   "outputs": [
    {
     "data": {
      "text/html": [
       "<div>\n",
       "<table border=\"1\" class=\"dataframe\">\n",
       "  <thead>\n",
       "    <tr style=\"text-align: right;\">\n",
       "      <th></th>\n",
       "      <th>count</th>\n",
       "    </tr>\n",
       "  </thead>\n",
       "  <tbody>\n",
       "    <tr>\n",
       "      <th>0</th>\n",
       "      <td>3</td>\n",
       "    </tr>\n",
       "  </tbody>\n",
       "</table>\n",
       "</div>"
      ],
      "text/plain": [
       "   count\n",
       "0      3"
      ]
     },
     "execution_count": 272,
     "metadata": {},
     "output_type": "execute_result"
    }
   ],
   "source": [
    "# Connect to an existing database\n",
    "db=pg.connect(dbname=user[\"dbname\"], user=user[\"user\"], password=user[\"password\"], host=user[\"host\"])\n",
    "# Number of line to show (please limit to 100 for saving computing time)\n",
    "nbrow=500\n",
    "# Query\n",
    "query=\"SELECT count(*) FROM \"+user[\"schema\"]+\".\"+user[\"prefixosm\"]+\"_\"+\"polygon \\\n",
    "WHERE osm_timestamp >= '\"+str(begintimemapping)+\"' AND osm_timestamp <= '\"+str(endingtimemapping)+\"' \\\n",
    "AND landuse='residential'\"\n",
    "# Execute query through panda\n",
    "df_bbox_coord=pd.read_sql(query, db)\n",
    "# Show dataframe\n",
    "df_bbox_coord.head(50)"
   ]
  },
  {
   "cell_type": "markdown",
   "metadata": {},
   "source": [
    "### Number of roads mapped"
   ]
  },
  {
   "cell_type": "code",
   "execution_count": 217,
   "metadata": {
    "collapsed": false
   },
   "outputs": [
    {
     "data": {
      "text/html": [
       "<div>\n",
       "<table border=\"1\" class=\"dataframe\">\n",
       "  <thead>\n",
       "    <tr style=\"text-align: right;\">\n",
       "      <th></th>\n",
       "      <th>count</th>\n",
       "    </tr>\n",
       "  </thead>\n",
       "  <tbody>\n",
       "    <tr>\n",
       "      <th>0</th>\n",
       "      <td>377</td>\n",
       "    </tr>\n",
       "  </tbody>\n",
       "</table>\n",
       "</div>"
      ],
      "text/plain": [
       "   count\n",
       "0    377"
      ]
     },
     "execution_count": 217,
     "metadata": {},
     "output_type": "execute_result"
    }
   ],
   "source": [
    "# Connect to an existing database\n",
    "db=pg.connect(dbname=user[\"dbname\"], user=user[\"user\"], password=user[\"password\"], host=user[\"host\"])\n",
    "# Number of line to show (please limit to 100 for saving computing time)\n",
    "nbrow=500\n",
    "# Query\n",
    "query=\"SELECT count(*) FROM \"+user[\"schema\"]+\".\"+user[\"prefixosm\"]+\"_\"+\"line \\\n",
    "WHERE osm_timestamp >= '\"+str(begintimemapping)+\"' AND osm_timestamp <= '\"+str(endingtimemapping)+\"' \\\n",
    "AND highway is not null\"\n",
    "# Execute query through panda\n",
    "df_bbox_coord=pd.read_sql(query, db)\n",
    "# Show dataframe\n",
    "df_bbox_coord.head(50)"
   ]
  },
  {
   "cell_type": "markdown",
   "metadata": {},
   "source": [
    "# Create map frames using Time Manager Plugin"
   ]
  },
  {
   "cell_type": "markdown",
   "metadata": {},
   "source": [
    "**This step should be done outsite from this notebook.**\n",
    "\n",
    "Use the [Qgis time manager plugin](https://github.com/anitagraser/TimeManager) to produced maps frames. More info could be found on the [Anita Graser's blog](https://anitagraser.com/2011/11/20/nice-animations-with-time-managers-offset-feature/). \n",
    "\n",
    "In the following cell of this notebook, please enter the path to the folder containing the frame for .gif and .mp4 creation purpose. More infos for this step can be found [here](http://stackoverflow.com/questions/753190/programmatically-generate-video-or-animated-gif-in-python)."
   ]
  },
  {
   "cell_type": "code",
   "execution_count": 268,
   "metadata": {
    "collapsed": true
   },
   "outputs": [],
   "source": [
    "## Enter the path to the folder with maps frames from TimeManager Plug-in\n",
    "user[\"map_frames_folder\"]='F:\\Tais\\Dropbox\\BROL\\Mapathon_Tais\\Qgis_timemanager\\Belgianmapathon2016/frames'"
   ]
  },
  {
   "cell_type": "markdown",
   "metadata": {},
   "source": [
    "## Create GIF"
   ]
  },
  {
   "cell_type": "markdown",
   "metadata": {},
   "source": [
    "For creation of .gif output, please first install [imageio](https://github.com/imageio/imageio)."
   ]
  },
  {
   "cell_type": "code",
   "execution_count": 293,
   "metadata": {
    "collapsed": false
   },
   "outputs": [],
   "source": [
    "import imageio\n",
    "import glob\n",
    "frames = []\n",
    "framepattern=user[\"map_frames_folder\"]+\"//*.png\"\n",
    "frames=glob.glob(framepattern)"
   ]
  },
  {
   "cell_type": "code",
   "execution_count": 294,
   "metadata": {
    "collapsed": false
   },
   "outputs": [],
   "source": [
    "from PIL import Image\n",
    "from numpy import array\n",
    "imagestack = []\n",
    "for frame in frames:\n",
    "    img = Image.open(frame)\n",
    "    arr = array(img)\n",
    "    imagestack.append(arr)\n",
    "imageio.mimsave(user[\"map_frames_folder\"]+'/Mapathon2016accomplishment.gif', imagestack, fps=4)"
   ]
  },
  {
   "cell_type": "markdown",
   "metadata": {},
   "source": [
    "## Create a movie"
   ]
  },
  {
   "cell_type": "markdown",
   "metadata": {},
   "source": [
    "For creation of .mp4 output, please first install [imageio](https://github.com/imageio/imageio)."
   ]
  },
  {
   "cell_type": "code",
   "execution_count": 295,
   "metadata": {
    "collapsed": false
   },
   "outputs": [],
   "source": [
    "import imageio\n",
    "import glob\n",
    "frames = []\n",
    "framepattern=user[\"map_frames_folder\"]+\"//*.png\"\n",
    "frames=glob.glob(framepattern)"
   ]
  },
  {
   "cell_type": "code",
   "execution_count": 296,
   "metadata": {
    "collapsed": false
   },
   "outputs": [],
   "source": [
    "## Download FFmpeg\n",
    "imageio.plugins.ffmpeg.download()"
   ]
  },
  {
   "cell_type": "code",
   "execution_count": 297,
   "metadata": {
    "collapsed": false
   },
   "outputs": [],
   "source": [
    "from PIL import Image\n",
    "from numpy import array\n",
    "with imageio.get_writer(user[\"map_frames_folder\"]+\"//Mapathon2016accomplishment.mp4\", mode='I', fps=4) as writer:\n",
    "    for frame in frames:\n",
    "        img = Image.open(frame)\n",
    "        arr = array(img)\n",
    "        writer.append_data(arr)"
   ]
  }
 ],
 "metadata": {
  "anaconda-cloud": {},
  "kernelspec": {
   "display_name": "Python 2",
   "language": "python",
   "name": "python2"
  },
  "language_info": {
   "codemirror_mode": {
    "name": "ipython",
    "version": 2
   },
   "file_extension": ".py",
   "mimetype": "text/x-python",
   "name": "python",
   "nbconvert_exporter": "python",
   "pygments_lexer": "ipython2",
   "version": "2.7.13"
  }
 },
 "nbformat": 4,
 "nbformat_minor": 0
}
